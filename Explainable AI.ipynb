{
 "cells": [
  {
   "cell_type": "markdown",
   "id": "061bb932",
   "metadata": {
    "slideshow": {
     "slide_type": "slide"
    }
   },
   "source": [
    "# Explainable AI with the SHAP package in Python.\n",
    "\n",
    "#### SHAP is a Python package that can be used to explain different mathematical models.\n",
    "\n",
    "SHAP can provide explanations of \n",
    "* why a model made a particular prediction\n",
    "* how relatively important the different variables are\n",
    "* and otherwise enable transparency."
   ]
  },
  {
   "cell_type": "markdown",
   "id": "7b67b15d",
   "metadata": {
    "slideshow": {
     "slide_type": "slide"
    }
   },
   "source": [
    "## The problem: why do we need explainability?\n",
    "\n",
    "#### As AI models are playing a more and more important role in people's lives, we have to be able to explain how they work.\n",
    "\n",
    "* We currently have a lot of models that are making decisions affecting human lives, but it’s very difficult to understand what those decisions are based on.\n",
    "* For example, many courtrooms are using algorithms to make decisions about sentencing.  People using the algorithms to make these life-changing decisions often do not understand why a particular prisoner is granted or denied bail.\n",
    "* In some cases the programmer understands how a model works but the end user does not, in other cases  nobody knows what variables a model is using.\n",
    "* I have two goals for explainability in my own work: 1) to be able to understand why a model makes a particular decision and 2) be able to explain it to other people. \n",
    "\n",
    "This notebook will walk you through a basic overview of what Shapley values are, and how to use them with the Python  SHAP package to help explain your models. It's based on the SHAP documentation, but simplified. I'm hoping to save you some of the time that it took me to figure out how they work!"
   ]
  },
  {
   "cell_type": "markdown",
   "id": "d0e56096",
   "metadata": {
    "slideshow": {
     "slide_type": "skip"
    }
   },
   "source": [
    "## Installing shap:\n",
    "\n",
    "Before you can run this notebook install SHAP with either:\n",
    "\n",
    "pip install shap \n",
    "\n",
    "or \n",
    "\n",
    "conda install -c conda-forge shap"
   ]
  },
  {
   "cell_type": "markdown",
   "id": "86d531f5",
   "metadata": {
    "slideshow": {
     "slide_type": "slide"
    }
   },
   "source": [
    "## Starting with Linear Regressions\n",
    "\n",
    "#### We describe linear models with coefficients, but they don't explain the relative importance of variables.\n",
    "\n",
    "We'll start out with the simplest possible model, a linear regression, and then move on from there.\n",
    "\n",
    "Quick review of linear regressions:\n",
    "* Linear regression creates a model like: housing price = 10,000 + 3 * age of house in years + 10 * rooms in house. \n",
    "* In this example, 3 and 10 are the coefficients.  They let us predict housing price plugging in the age of the house and the number of rooms. \n",
    "* However, they are not able to tell us how important the age of the house is compared to the number of rooms.  The size of the coefficients for the different variables doesn't tell us how heavily they are weighted in making the prediction.\n",
    "\n"
   ]
  },
  {
   "cell_type": "markdown",
   "id": "a225d2f5",
   "metadata": {
    "slideshow": {
     "slide_type": "slide"
    }
   },
   "source": [
    "### Now let's run a linear regression.\n",
    "\n",
    "* We'll use the famous Boston housing dataset tracking housing prices in 1978.  "
   ]
  },
  {
   "cell_type": "code",
   "execution_count": 1,
   "id": "2dbf85d7",
   "metadata": {
    "slideshow": {
     "slide_type": "slide"
    }
   },
   "outputs": [],
   "source": [
    "%%capture output \n",
    "# suppress warning-- see comment below\n",
    "\n",
    "import pandas as pd\n",
    "import shap\n",
    "import sklearn\n",
    "\n",
    "# load the Boson dataset\n",
    "X,y = shap.datasets.boston()\n",
    "X100 = shap.utils.sample(X, 100) \n",
    "\n",
    "# create a simple linear model\n",
    "model = sklearn.linear_model.LinearRegression()\n",
    "model.fit(X, y)"
   ]
  },
  {
   "cell_type": "markdown",
   "id": "2f19f1ae",
   "metadata": {
    "slideshow": {
     "slide_type": "skip"
    }
   },
   "source": [
    "You probably got an error message that the Boston housing dataset has ethical problems, as the data was influenced by racist policies. This dataset should not be used to draw conclusions about housing prices. We're not using it to draw conclusions about housing here, but to illustrate how the SHAP package works."
   ]
  },
  {
   "cell_type": "markdown",
   "id": "58c15073",
   "metadata": {
    "slideshow": {
     "slide_type": "slide"
    }
   },
   "source": [
    "Now that we've created the model, let's look at the coefficients:\n"
   ]
  },
  {
   "cell_type": "code",
   "execution_count": 2,
   "id": "00a64e9b",
   "metadata": {
    "slideshow": {
     "slide_type": "fragment"
    }
   },
   "outputs": [
    {
     "name": "stdout",
     "output_type": "stream",
     "text": [
      "Model coefficients:\n",
      "\n",
      "CRIM = -0.108\n",
      "ZN = 0.0464\n",
      "INDUS = 0.0206\n",
      "CHAS = 2.6867\n",
      "NOX = -17.7666\n",
      "RM = 3.8099\n",
      "AGE = 0.0007\n",
      "DIS = -1.4756\n",
      "RAD = 0.306\n",
      "TAX = -0.0123\n",
      "PTRATIO = -0.9527\n",
      "B = 0.0093\n",
      "LSTAT = -0.5248\n"
     ]
    }
   ],
   "source": [
    "print(\"Model coefficients:\\n\")\n",
    "for i in range(X.shape[1]):\n",
    "    print(X.columns[i], \"=\", model.coef_[i].round(4))"
   ]
  },
  {
   "cell_type": "markdown",
   "id": "5b7629a4",
   "metadata": {
    "slideshow": {
     "slide_type": "slide"
    }
   },
   "source": [
    "### What's wrong with coefficients?  Introducing Shapley values.\n",
    "\n",
    "#### Coefficients are dependent on unit of measurement and scale; that's why we need Shapley values.\n",
    "\n",
    "Right now, measuring the age of the house in years, we get a coefficient of 0.007.  \n",
    "* If we measure the age of the house in minutes instead, the new coefficient will be 0.007 * 365 * 24 * 60 =367.92.  \n",
    "* Suddenly age looks much more important then it did before.  \n",
    "* However, the actual effect of a change in age on the prediction has not changed.  \n",
    "\n",
    "This is why coeffiecients don't do a good enough job of explaining how much each variable affects a prediction.\n",
    "\n",
    "To solve this problem, we'll use Shapley values."
   ]
  },
  {
   "cell_type": "markdown",
   "id": "6015d8db",
   "metadata": {
    "slideshow": {
     "slide_type": "slide"
    }
   },
   "source": [
    "#### A Shapley value explains how much a specific variable contributes to a specific prediction.  \n",
    "\n",
    "\n",
    "You can think of a Shapely value as how much a prediction changes when a new variable is added; how much value is added by each new variable.\n",
    "\n",
    "The underlying math for Shapley values is extremely complex.  However, in the case of linear regressions, they become much more simple to calulate.  \n",
    "\n"
   ]
  },
  {
   "cell_type": "markdown",
   "id": "83c6267a",
   "metadata": {
    "slideshow": {
     "slide_type": "slide"
    }
   },
   "source": [
    "#### The next graph shows how number of rooms predicts housing price in our linear model."
   ]
  },
  {
   "cell_type": "code",
   "execution_count": 3,
   "id": "85e807ef",
   "metadata": {},
   "outputs": [
    {
     "data": {
      "image/png": "[encoded data removed]",
      "text/plain": [
       "<Figure size 432x288 with 4 Axes>"
      ]
     },
     "metadata": {
      "needs_background": "light"
     },
     "output_type": "display_data"
    }
   ],
   "source": [
    "shap.partial_dependence_plot(\"RM\", model.predict, X100, ice=False,\n",
    "    model_expected_value=True, feature_expected_value=True)"
   ]
  },
  {
   "cell_type": "markdown",
   "id": "28305d80-23ae-434d-b0aa-bcf3c9b98cc3",
   "metadata": {
    "slideshow": {
     "slide_type": "skip"
    }
   },
   "source": [
    "#### The blue line shows our predictions of price; the grey lines show the average number of rooms and average housing value.\n",
    "\n",
    "* The x axis shows the number of rooms, ranging from 4 to 9.\n",
    "* The grey squares along the x access are a histogram showing the distribution of the number of rooms; most houses have around 6 rooms.\n",
    "* The y axis is housing price in tens of thousands.\n",
    "* The blue line shows predictions.  To find the predicted price of a house with 6 rooms, find 6 on the x axis and look up to find the point on the blue line.\n",
    "* The grey dotted lines are averages.  There is a grey dotted line coming up from about 6.3; this is the average number of rooms.  The grey line running across from 22.5 is the average housing cost.\n",
    "\n",
    "Now let's zoom in on a single prediction."
   ]
  },
  {
   "cell_type": "markdown",
   "id": "351fecad",
   "metadata": {
    "slideshow": {
     "slide_type": "slide"
    }
   },
   "source": [
    "#### The next graph shows how we compute the Shapley value for a single prediction."
   ]
  },
  {
   "cell_type": "code",
   "execution_count": null,
   "id": "767299b5-857d-4e21-b618-fc02e4ad9fd3",
   "metadata": {
    "slideshow": {
     "slide_type": "fragment"
    }
   },
   "outputs": [],
   "source": [
    "# compute the SHAP values for the linear model\n",
    "explainer = shap.Explainer(model.predict, X100)\n",
    "shap_values = explainer(X)\n",
    "\n",
    "# make a standard partial dependence plot\n",
    "sample_ind = 18\n",
    "shap.partial_dependence_plot(\n",
    "    \"RM\", model.predict, X100, model_expected_value=True,\n",
    "    feature_expected_value=True, ice=False,\n",
    "    shap_values=shap_values[sample_ind:sample_ind+1,:]\n",
    ")"
   ]
  },
  {
   "cell_type": "markdown",
   "id": "e29d8f58",
   "metadata": {
    "slideshow": {
     "slide_type": "skip"
    }
   },
   "source": [
    "#### The Shapley value for this prediction is the red line; the distance between the average housing price and the housing price we are predicting.\n",
    "\n",
    "We're looking at the predicted house cost when the room value is 5.5.  Take a look at the  black dot on the blue line (the number of rooms and house price for this particular prediction) and the red line showing how far this value is from the average housing price across all of Boston.  \n",
    "\n",
    "Note that this graph only shows predicted values-- we are not looking at any actual observations from real-world houses."
   ]
  },
  {
   "cell_type": "markdown",
   "id": "43ff78b3-cd6b-41aa-a3b2-209ef1dea308",
   "metadata": {
    "slideshow": {
     "slide_type": "slide"
    }
   },
   "source": [
    "#### For each variable, each prediction has a different Shapley value.\n",
    "\n",
    "Notice that each prediction has a different Shapley value.  For each prediction we make, the weight of variables used to make a prediction will be different.\n",
    "\n",
    "* Each (linear, additive) predictor value we are looking at has a graph like this.  If there was a different graph for price of house next door, we could measure the Shapley value for a house with 2.5 rooms on that graph, and then compare the two Shapley  graphs to see which factors had a greater influence."
   ]
  },
  {
   "cell_type": "markdown",
   "id": "b88503b3",
   "metadata": {
    "slideshow": {
     "slide_type": "skip"
    }
   },
   "source": [
    "#### Another way to think about Shapley values.\n",
    "\n",
    "If we did not know the number of rooms, and we needed to predict the price of a random house, we would predict the average price of all houses in Boston.  This price is the horizontal dotted line on the graph.\n",
    "* Now we've added a single variable:  the number of rooms for a particular house.  Based on this new variable, we can get improve our prediction and get more specific then the average of all house prices.\n",
    "* Since more rooms means a higher price, and this particular house has fewer then the average number of rooms, we can expect a price that is lower then the average price of all costs.\n",
    "* The length of the red line shows us how much lower then the average price of all houses we expect to be for this particular house.  \n",
    "* In other words, the length of the red line tells us how much the fact that this house has 2.5 rooms affects our prediction of the house cost.\n",
    "* This is the Shapley value."
   ]
  },
  {
   "cell_type": "markdown",
   "id": "c71eb134-6cd1-44a4-9989-254c0daa8535",
   "metadata": {
    "slideshow": {
     "slide_type": "slide"
    }
   },
   "source": [
    "### So what? Explaining a prediction with Shapley values.\n",
    "\n",
    "#### Now that we've gone over what Shapley values are, let's look at how they can be used.\n",
    "\n",
    "Earlier in the notebook we created a linear model with 14 predictor variables.  So far we've only looked at one variable-- number of rooms.  Let's use Shapley values to see how the number of rooms compares with the other 13 variables in the model to predict housing cost.\n"
   ]
  },
  {
   "cell_type": "markdown",
   "id": "554f10fa",
   "metadata": {
    "slideshow": {
     "slide_type": "slide"
    }
   },
   "source": [
    "#### The next graph shows how all 14 variables affect the prediction of a single housing price."
   ]
  },
  {
   "cell_type": "code",
   "execution_count": null,
   "id": "0381fc03-d7b2-49d5-9347-343c1dd5c321",
   "metadata": {
    "scrolled": true,
    "slideshow": {
     "slide_type": "fragment"
    }
   },
   "outputs": [],
   "source": [
    "# the waterfall_plot shows how we use each variable to make a better prediction \n",
    "# then the average price of all houses across Boston\n",
    "\n",
    "\n",
    "shap.plots.waterfall(shap_values[sample_ind], max_display=14)"
   ]
  },
  {
   "cell_type": "markdown",
   "id": "6cffedf3-b281-4371-99b0-99acf70b46f8",
   "metadata": {
    "slideshow": {
     "slide_type": "skip"
    }
   },
   "source": [
    "#### This graph shows how influential each variable is for a single prediction.\n",
    "\n",
    "This graph shows a single prediction.  For a house with 5.46 rooms, a ptratio of 21, rad of 4, etc, this graph\n",
    "shows how important each variable is in making a prediction.\n",
    "* The most important variables for this prediction are on the top, and they also have the longest bar.  For this predeiction, number of rooms is most imprtant, followed by the ptratio.\n",
    "* Red squares mean the variable makes the predicted cost of this house higher then average, blue squares lower then average.\n",
    "* You can also read the graph from right to left to see what the prediction will be.  Start reading from the bottom.\n",
    "* The average cost of all houses is about 23.  Because this house has a dist of 3.796, we add 0.01 to the price we are predicting for this particular house.\n",
    "* The next row up shows us that because this house is 36.6 years old, we subtract 0.02 from the predicted house cost.\n",
    "* Continuing to move up each row in the graph, we can see how our predicted house price will increase or decrease based on a particular variable.\n",
    "* In the last step, we subtact 3.09 and get our final prediction of 16."
   ]
  },
  {
   "cell_type": "markdown",
   "id": "5a9f3d9f-de76-41a5-a070-430d86882aff",
   "metadata": {
    "slideshow": {
     "slide_type": "skip"
    }
   },
   "source": [
    "#### This graph can explain a single prediction.\n",
    "\n",
    "For example, if a judge runs a program and it tells her that a particular prisoner should get a longer sentence, \n",
    "the judge could look at a picture like this to see why that recommendation is being made.\n",
    "\n",
    "The graph might show that the main reason this person is getting a long sentence is because he has been convicted of shooting three people.  Seems like a good call.\n",
    "\n",
    "On the other hand, another prisoner's graph might show that the main reason for her long sentence is because of her zip code.  Seems like worth rethinking that one."
   ]
  },
  {
   "cell_type": "markdown",
   "id": "f028c204-916e-4230-8aa8-9bec19c25c20",
   "metadata": {
    "slideshow": {
     "slide_type": "slide"
    },
    "tags": []
   },
   "source": [
    "### Looking at more than one prediction.\n",
    "\n",
    "#### The next two graphs show how variables work across all predictions.\n",
    "\n",
    "So far we've showed how to explain a single prediction.  But what if we want to talk about all the predictions?    What if we want to look at the average Shapley values?\n",
    "\n",
    "There’s a tricky thing here: Shapley values explain the difference between each observation and the mean.  If the mean is 0, half will be positive and half negative and they will average out to zero.\n",
    "\n"
   ]
  },
  {
   "cell_type": "markdown",
   "id": "2792f255",
   "metadata": {
    "slideshow": {
     "slide_type": "slide"
    }
   },
   "source": [
    "#### The next graph uses absolute values to show how significant variables are across all predictions:"
   ]
  },
  {
   "cell_type": "code",
   "execution_count": null,
   "id": "5bbb8d15-534b-4e5d-8df5-a79f3c83cc7e",
   "metadata": {
    "slideshow": {
     "slide_type": "fragment"
    }
   },
   "outputs": [],
   "source": [
    "shap.plots.bar(shap_values)"
   ]
  },
  {
   "cell_type": "markdown",
   "id": "ac56dad6-7ebc-4f90-ae5d-c45fe1e9dcef",
   "metadata": {
    "slideshow": {
     "slide_type": "skip"
    }
   },
   "source": [
    "Looking at the average impact of different variables, we can see that lstat is the most important predictor variable on average.  Room number is still important, but it's not the most important on average.\n",
    "\n",
    "What about if we have a factor that matters a lot for a small number of observations?  We can look at the maximum Shapley values instead:"
   ]
  },
  {
   "cell_type": "markdown",
   "id": "076a5006",
   "metadata": {
    "slideshow": {
     "slide_type": "slide"
    }
   },
   "source": [
    "#### The next graph shows any variables that are deeply influential, but only for a few predictions."
   ]
  },
  {
   "cell_type": "code",
   "execution_count": null,
   "id": "493b213b-18f6-48c1-b6f3-4a8f9e26de13",
   "metadata": {
    "slideshow": {
     "slide_type": "fragment"
    }
   },
   "outputs": [],
   "source": [
    "shap.plots.bar(shap_values.abs.max(0))"
   ]
  },
  {
   "cell_type": "markdown",
   "id": "e0bcf009-ab05-4c51-93c1-2d08ca512f8b",
   "metadata": {
    "slideshow": {
     "slide_type": "skip"
    }
   },
   "source": [
    "This graph will highlight if there is one variable that doesn’t influence many observations, but when it does it makes a huge difference. In our bail example, we might want prior conviction for murder to work like this.  Most people don't have a conviction for murder so it doesn't impact the decision, but in those cases where someone does have a previous murder conviction it should trump other factors and lead to a decision to deny bail.\n",
    "\n",
    "There's a lot more out there-- Shapley values can be used to explain a lot of different kinds of models. "
   ]
  },
  {
   "cell_type": "markdown",
   "id": "edf8b901",
   "metadata": {
    "slideshow": {
     "slide_type": "slide"
    }
   },
   "source": [
    "### Assumptions and options\n",
    "\n",
    "#### So far we've looked at a very simple model, which makes Shapley values easier to calculate.\n",
    "\n",
    "So far we've been assuming:\n",
    "* We are looking at a linear regression model— which simplifies the math and makes Shapley values easier to calculate.  \n",
    "* We're assuming every predictor is independent.  \n",
    "* We're also looking at additive models.  In the graphs above, you see that you can add the effect of each variable to get the final prediction."
   ]
  },
  {
   "cell_type": "markdown",
   "id": "fe98301d-b05a-4f9f-a044-e13b61115998",
   "metadata": {
    "slideshow": {
     "slide_type": "slide"
    }
   },
   "source": [
    "#### The SHAP package can also explain more complex models.\n",
    "\n",
    "* SHAP can also work with nonlinear models, non-additive models, and correlated features. These are more complicated and require more research. \n"
   ]
  },
  {
   "cell_type": "markdown",
   "id": "6129cbb3",
   "metadata": {
    "slideshow": {
     "slide_type": "slide"
    }
   },
   "source": [
    "SHAP gets more exciting when it's used on more complicated models.  \n",
    "\n",
    "#### The next image shows how SHAP can explain a model analyzing a block of text:"
   ]
  },
  {
   "cell_type": "code",
   "execution_count": null,
   "id": "9770be90-369e-474e-9fcf-deec579f08bf",
   "metadata": {
    "slideshow": {
     "slide_type": "fragment"
    }
   },
   "outputs": [],
   "source": [
    "from PIL import Image # just a picture, not the real thing\n",
    "img = Image.open('nlp_explained.png')\n",
    "display(img) "
   ]
  },
  {
   "cell_type": "markdown",
   "id": "7f6d40c9-4cfc-4544-b960-a59cdb8ad0e6",
   "metadata": {
    "slideshow": {
     "slide_type": "skip"
    }
   },
   "source": [
    "This more complicated example starts to show how SHAP can be useful in explaining more confusing models-- showing what words and phrases most contributed to sentiment analysis of a movie review."
   ]
  },
  {
   "cell_type": "markdown",
   "id": "86a0ea8e-363e-412d-8217-4718365c27e7",
   "metadata": {
    "slideshow": {
     "slide_type": "slide"
    }
   },
   "source": [
    "## Conclusion\n",
    "\n",
    "#### Use the SHAP package along with your models to make them more explainable.\n",
    "\n",
    "This has been a quick introduction into why we need explainability, what shapley values are, and how to use the SHAP package in Python to explain your models.  \n",
    "\n",
    "As more and more life-threatening decisions are made by models that are designed to be incomprehensible, we absolutely must do a better job explaining how our models work.\n",
    "\n",
    "This has just been a start-- I've covered only some of the material from the first introduction to the SHAP package documentation at https://shap.readthedocs.io.  Dig in and let me know what you find!\n"
   ]
  },
  {
   "cell_type": "markdown",
   "id": "c834493c",
   "metadata": {
    "slideshow": {
     "slide_type": "skip"
    }
   },
   "source": [
    "Notebook created by Nabil Arnaoot \n",
    "on 2/14/2022 \n",
    "\n",
    "* heavily relying on SHAP documentation particularly <a href=\"https://shap.readthedocs.io/en/latest/example_notebooks/overviews/An%20introduction%20to%20explainable%20AI%20with%20Shapley%20values.html\">An introduction to explainable AI with Shapley values</a>\n",
    "* examples and explanations pulled from that introduction; see link for more\n",
    "* with deep gratitude for help with the underlying math from Laura Riccio.\n",
    "\n",
    "This notebook only covers only a small part of the SHAP introduction available at https://shap.readthedocs.io."
   ]
  }
 ],
 "metadata": {
  "celltoolbar": "Slideshow",
  "kernelspec": {
   "display_name": "Python 3 (ipykernel)",
   "language": "python",
   "name": "python3"
  },
  "language_info": {
   "codemirror_mode": {
    "name": "ipython",
    "version": 3
   },
   "file_extension": ".py",
   "mimetype": "text/x-python",
   "name": "python",
   "nbconvert_exporter": "python",
   "pygments_lexer": "ipython3",
   "version": "3.9.12"
  }
 },
 "nbformat": 4,
 "nbformat_minor": 5
}
